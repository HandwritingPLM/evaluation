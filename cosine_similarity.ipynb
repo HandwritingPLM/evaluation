{
 "cells": [
  {
   "cell_type": "markdown",
   "metadata": {},
   "source": [
    "# Compute Cosine simmilarity between embeddings"
   ]
  },
  {
   "cell_type": "code",
   "execution_count": 25,
   "metadata": {},
   "outputs": [],
   "source": [
    "import os\n",
    "from glob import glob\n",
    "import torch\n",
    "from sklearn.metrics.pairwise import cosine_similarity\n",
    "\n",
    "embedding_dir = os.path.join('data', 'embeddings')"
   ]
  },
  {
   "cell_type": "code",
   "execution_count": null,
   "metadata": {},
   "outputs": [],
   "source": [
    "\n"
   ]
  },
  {
   "cell_type": "code",
   "execution_count": 29,
   "metadata": {},
   "outputs": [
    {
     "name": "stdout",
     "output_type": "stream",
     "text": [
      "data\\embeddings\\*\\bentham\\*_002_080_001.pt\n",
      "['data\\\\embeddings\\\\ground_truth\\\\bentham\\\\GT_002_080_001.pt', 'data\\\\embeddings\\\\ocr\\\\bentham\\\\ocr_002_080_001.pt', 'data\\\\embeddings\\\\test\\\\bentham\\\\test_002_080_001.pt']\n",
      "['data\\\\embeddings\\\\ocr\\\\bentham\\\\ocr_002_080_001.pt', 'data\\\\embeddings\\\\test\\\\bentham\\\\test_002_080_001.pt']\n",
      "ocr\n",
      "Cosine Similarity: 0.6028253436088562\n",
      "test\n",
      "Cosine Similarity: 0.9981483221054077\n"
     ]
    },
    {
     "name": "stderr",
     "output_type": "stream",
     "text": [
      "C:\\Users\\jnicolow\\AppData\\Local\\Temp\\ipykernel_10700\\3531187463.py:4: FutureWarning: You are using `torch.load` with `weights_only=False` (the current default value), which uses the default pickle module implicitly. It is possible to construct malicious pickle data which will execute arbitrary code during unpickling (See https://github.com/pytorch/pytorch/blob/main/SECURITY.md#untrusted-models for more details). In a future release, the default value for `weights_only` will be flipped to `True`. This limits the functions that could be executed during unpickling. Arbitrary objects will no longer be allowed to be loaded via this mode unless they are explicitly allowlisted by the user via `torch.serialization.add_safe_globals`. We recommend you start setting `weights_only=True` for any use case where you don't have full control of the loaded file. Please open an issue on GitHub for any issues related to this experimental feature.\n",
      "  gt_embedding = torch.load(gt_embedding_fn)\n",
      "C:\\Users\\jnicolow\\AppData\\Local\\Temp\\ipykernel_10700\\3531187463.py:13: FutureWarning: You are using `torch.load` with `weights_only=False` (the current default value), which uses the default pickle module implicitly. It is possible to construct malicious pickle data which will execute arbitrary code during unpickling (See https://github.com/pytorch/pytorch/blob/main/SECURITY.md#untrusted-models for more details). In a future release, the default value for `weights_only` will be flipped to `True`. This limits the functions that could be executed during unpickling. Arbitrary objects will no longer be allowed to be loaded via this mode unless they are explicitly allowlisted by the user via `torch.serialization.add_safe_globals`. We recommend you start setting `weights_only=True` for any use case where you don't have full control of the loaded file. Please open an issue on GitHub for any issues related to this experimental feature.\n",
      "  other_embedding = torch.load(embedding_fn)\n",
      "C:\\Users\\jnicolow\\AppData\\Local\\Temp\\ipykernel_10700\\3531187463.py:13: FutureWarning: You are using `torch.load` with `weights_only=False` (the current default value), which uses the default pickle module implicitly. It is possible to construct malicious pickle data which will execute arbitrary code during unpickling (See https://github.com/pytorch/pytorch/blob/main/SECURITY.md#untrusted-models for more details). In a future release, the default value for `weights_only` will be flipped to `True`. This limits the functions that could be executed during unpickling. Arbitrary objects will no longer be allowed to be loaded via this mode unless they are explicitly allowlisted by the user via `torch.serialization.add_safe_globals`. We recommend you start setting `weights_only=True` for any use case where you don't have full control of the loaded file. Please open an issue on GitHub for any issues related to this experimental feature.\n",
      "  other_embedding = torch.load(embedding_fn)\n"
     ]
    }
   ],
   "source": [
    "\n",
    "\n",
    "gt_embedding_fns = glob(os.path.join(embedding_dir, 'ground_truth', 'bentham', '*.pt'))\n",
    "\n",
    "for gt_embedding_fn in gt_embedding_fns:\n",
    "    gt_embedding = torch.load(gt_embedding_fn)\n",
    "    \n",
    "    # get other embeddings\n",
    "    print(os.path.join(embedding_dir, '*', 'bentham', f\"*{os.path.basename(gt_embedding_fn).replace('GT', '')}\"))\n",
    "    other_embedding_fns = glob(os.path.join(embedding_dir, '*', 'bentham', f\"*{os.path.basename(gt_embedding_fn).replace('GT', '')}\"))\n",
    "    print(other_embedding_fns)\n",
    "    other_embedding_fns = [f for f in other_embedding_fns if \"ground_truth\" not in os.path.dirname(f)] # remove ground truth\n",
    "    print(other_embedding_fns)\n",
    "    for embedding_fn in other_embedding_fns:\n",
    "        other_embedding = torch.load(embedding_fn)\n",
    "        similarity = cosine_similarity(gt_embedding.reshape(1, -1), other_embedding.reshape(1, -1))\n",
    "        print(os.path.basename(os.path.dirname(os.path.dirname(embedding_fn))))\n",
    "        print(f\"Cosine Similarity: {similarity[0][0]}\")\n",
    "\n",
    "    break"
   ]
  },
  {
   "cell_type": "code",
   "execution_count": null,
   "metadata": {},
   "outputs": [],
   "source": []
  }
 ],
 "metadata": {
  "kernelspec": {
   "display_name": "ocr",
   "language": "python",
   "name": "python3"
  },
  "language_info": {
   "codemirror_mode": {
    "name": "ipython",
    "version": 3
   },
   "file_extension": ".py",
   "mimetype": "text/x-python",
   "name": "python",
   "nbconvert_exporter": "python",
   "pygments_lexer": "ipython3",
   "version": "3.9.20"
  }
 },
 "nbformat": 4,
 "nbformat_minor": 2
}
