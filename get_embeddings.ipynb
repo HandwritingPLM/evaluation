{
 "cells": [
  {
   "cell_type": "markdown",
   "metadata": {},
   "source": [
    "# Get embeddings"
   ]
  },
  {
   "cell_type": "code",
   "execution_count": 71,
   "metadata": {},
   "outputs": [],
   "source": [
    "import os\n",
    "import torch\n",
    "from transformers import BertTokenizer, BertModel\n",
    "\n",
    "from eval import getembeddings\n",
    "from eval import gpuutils\n",
    "\n",
    "import importlib\n",
    "importlib.reload(getembeddings)\n",
    "\n",
    "\n",
    "\n",
    "ocr_data_dir = os.path.join(os.path.dirname(os.getcwd()), 'digitalize_handwritten')\n",
    "groundtruth_dir = os.path.join(ocr_data_dir, 'data')\n",
    "ocr_dir = os.path.join(ocr_data_dir, 'OCR')"
   ]
  },
  {
   "cell_type": "code",
   "execution_count": 68,
   "metadata": {},
   "outputs": [
    {
     "data": {
      "text/plain": [
       "BertModel(\n",
       "  (embeddings): BertEmbeddings(\n",
       "    (word_embeddings): Embedding(30522, 768, padding_idx=0)\n",
       "    (position_embeddings): Embedding(512, 768)\n",
       "    (token_type_embeddings): Embedding(2, 768)\n",
       "    (LayerNorm): LayerNorm((768,), eps=1e-12, elementwise_affine=True)\n",
       "    (dropout): Dropout(p=0.1, inplace=False)\n",
       "  )\n",
       "  (encoder): BertEncoder(\n",
       "    (layer): ModuleList(\n",
       "      (0-11): 12 x BertLayer(\n",
       "        (attention): BertAttention(\n",
       "          (self): BertSdpaSelfAttention(\n",
       "            (query): Linear(in_features=768, out_features=768, bias=True)\n",
       "            (key): Linear(in_features=768, out_features=768, bias=True)\n",
       "            (value): Linear(in_features=768, out_features=768, bias=True)\n",
       "            (dropout): Dropout(p=0.1, inplace=False)\n",
       "          )\n",
       "          (output): BertSelfOutput(\n",
       "            (dense): Linear(in_features=768, out_features=768, bias=True)\n",
       "            (LayerNorm): LayerNorm((768,), eps=1e-12, elementwise_affine=True)\n",
       "            (dropout): Dropout(p=0.1, inplace=False)\n",
       "          )\n",
       "        )\n",
       "        (intermediate): BertIntermediate(\n",
       "          (dense): Linear(in_features=768, out_features=3072, bias=True)\n",
       "          (intermediate_act_fn): GELUActivation()\n",
       "        )\n",
       "        (output): BertOutput(\n",
       "          (dense): Linear(in_features=3072, out_features=768, bias=True)\n",
       "          (LayerNorm): LayerNorm((768,), eps=1e-12, elementwise_affine=True)\n",
       "          (dropout): Dropout(p=0.1, inplace=False)\n",
       "        )\n",
       "      )\n",
       "    )\n",
       "  )\n",
       "  (pooler): BertPooler(\n",
       "    (dense): Linear(in_features=768, out_features=768, bias=True)\n",
       "    (activation): Tanh()\n",
       "  )\n",
       ")"
      ]
     },
     "execution_count": 68,
     "metadata": {},
     "output_type": "execute_result"
    }
   ],
   "source": [
    "# set model and tokenizer\n",
    "tokenizer = BertTokenizer.from_pretrained(\"bert-base-uncased\")\n",
    "model = BertModel.from_pretrained(\"bert-base-uncased\")\n",
    "\n",
    "device = gpuutils.get_gpu_most_memory()\n",
    "model.to(device)"
   ]
  },
  {
   "cell_type": "markdown",
   "metadata": {},
   "source": [
    "## Ground truth embeddings"
   ]
  },
  {
   "cell_type": "code",
   "execution_count": 65,
   "metadata": {},
   "outputs": [
    {
     "name": "stderr",
     "output_type": "stream",
     "text": [
      "Token indices sequence length is longer than the specified maximum sequence length for this model (555 > 512). Running this sequence through the model will result in indexing errors\n"
     ]
    }
   ],
   "source": [
    "text_glob_path = os.path.join(groundtruth_dir, 'BenthamDataset', 'GT', 'GT_Extracted', '*.txt')\n",
    "save_dir = os.path.join(os.getcwd(), 'data', 'embeddings', 'ground_truth', 'bentham')\n",
    "\n",
    "getembeddings.get_all_embeddings(text_glob_path, save_dir, model, tokenizer, device)\n"
   ]
  },
  {
   "cell_type": "markdown",
   "metadata": {},
   "source": [
    "# Raw OCR embeddings"
   ]
  },
  {
   "cell_type": "code",
   "execution_count": 66,
   "metadata": {},
   "outputs": [],
   "source": [
    "text_glob_path = os.path.join(ocr_dir, 'completed-OCR', 'Bentham', '*.txt')\n",
    "save_dir = os.path.join(os.getcwd(), 'data', 'embeddings', 'ocr', 'bentham')\n",
    "\n",
    "getembeddings.get_all_embeddings(text_glob_path, save_dir, model, tokenizer, device)\n"
   ]
  },
  {
   "cell_type": "markdown",
   "metadata": {},
   "source": [
    "# LLM proccessed OCR"
   ]
  },
  {
   "cell_type": "code",
   "execution_count": null,
   "metadata": {},
   "outputs": [],
   "source": []
  },
  {
   "cell_type": "markdown",
   "metadata": {},
   "source": [
    "# Just testing things"
   ]
  },
  {
   "cell_type": "code",
   "execution_count": 74,
   "metadata": {},
   "outputs": [],
   "source": [
    "test_text = \"366. The evidence of the engagement, confined to a portable instrument, instead of a Book. _ Taken from Exche-quer Bills,_ Differs from Stock Annuities _ Agrees with Irish Debentures, and the now disused Navy Victu-alling Transport and Ordnance Bills or Debentures: _ also with India Bonds, Bank Notes, Banker's Promissory Notes; and private Promissory Notes and Bills of Exchange. 7. The Paper, by its size, shape, texture, are thinness, par--ticularly fitted for circulation _ Taken from Bank Paper. Agrees more or less with Bankers Paper and with the French Assignats. Differs from all the other above mentioned Engagements: _- Eexcept from some late issues of Exchequer Bills, in respect of size. _ 8. Application of the profit of the measure towards the reduction of the National Debt. _ Taken from the Sale of the Land Tax i:e: the exchange of so many portions of the annual produce of that Tax for the portions of Stock Annuities. Differs from all the other engagements above mentioned._ 16 Aug 1800\"\n",
    "\n",
    "embedding = getembeddings.get_embedding_pool(\n",
    "    text=test_text,\n",
    "    model=model,\n",
    "    tokenizer=tokenizer,\n",
    "    device=device\n",
    ")\n",
    "embedding = embedding.cpu()\n",
    "save_path = os.path.join('data', 'embeddings', 'test', 'bentham', 'test_002_080_001.pt')\n",
    "torch.save(embedding, save_path)"
   ]
  }
 ],
 "metadata": {
  "kernelspec": {
   "display_name": "ocr",
   "language": "python",
   "name": "python3"
  },
  "language_info": {
   "codemirror_mode": {
    "name": "ipython",
    "version": 3
   },
   "file_extension": ".py",
   "mimetype": "text/x-python",
   "name": "python",
   "nbconvert_exporter": "python",
   "pygments_lexer": "ipython3",
   "version": "3.9.20"
  }
 },
 "nbformat": 4,
 "nbformat_minor": 2
}
