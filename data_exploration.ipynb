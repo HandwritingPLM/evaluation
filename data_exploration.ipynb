{
 "cells": [
  {
   "cell_type": "markdown",
   "metadata": {},
   "source": [
    "# Explore and load data\n",
    "Load ground truth and OCR-extracted text"
   ]
  },
  {
   "cell_type": "code",
   "execution_count": 5,
   "metadata": {},
   "outputs": [],
   "source": [
    "import os\n",
    "from glob import glob\n",
    "\n",
    "data_dir = os.path.join(os.path.dirname(os.getcwd()), 'digitalize_handwritten')\n",
    "groundtruth_dir = os.path.join(data_dir, 'data')\n",
    "ocr_dir = os.path.join(data_dir, 'OCR')"
   ]
  },
  {
   "cell_type": "markdown",
   "metadata": {},
   "source": [
    "# load bentham"
   ]
  },
  {
   "cell_type": "code",
   "execution_count": null,
   "metadata": {},
   "outputs": [
    {
     "name": "stdout",
     "output_type": "stream",
     "text": [
      "433\n",
      "366. The evidence of the engagement, consigned to a portable instrument, instead of a fixed Book. _ Taken from Exche-quer Bills,_ Differs from Stock Annuities _ Agrees with Irish Debentures, and the now disused Navy Victu-alling Transport and Ordnance Bills or Debentures: _ also with India Bonds, Bank Notes, Banker's Promissory Notes; and private Promissory Notes and Bills of Exchange. 7. The Paper, by its size, shape, texture, are thinness, par--ticularly fitted for circulation _ Taken from Bank Paper. Agrees more or less with Bankers Paper and with the French Assignats. Differs from all the other above mentioned Engagements: _- Eexcept from some late issues of Exchequer Bills, in respect of size. _ 8. Application of the profit of the measure towards the reduction of the National Debt. _ Taken from the Sale of the Land Tax i:e: the exchange of so many portions of the annual produce of that Tax for the portions of Stock Annuities. Differs from all the other engagements above mentioned._ 16 Aug 1800\n",
      "og gue. pf Sete ce\n",
      "\n",
      "ness ' Aanvypork De eke oo, Br eee\n",
      "| = Yrdew Bove Bonk Nite, Gh. ae ian\n",
      "Nowe And yoruvate Pein fing Nias amd Biltc gf\n",
      "bees Pope by 48 cop, chapuy fialine,, ove Brinfa po\n",
      "ef ee Ahn fir Baik Bier\n",
      "ae le lece Bp wo\n",
      "a\n",
      "-  egantongere eh ee |\n",
      "nde baonasie. gfe fern ale he ths tegen\n",
      "\n",
      "Ee ee -\n",
      "\n",
      "\n"
     ]
    }
   ],
   "source": [
    "\n",
    "ocr_output_dir = os.path.join(ocr_dir, 'completed-OCR', 'Bentham')\n",
    "groundtruth_fns = glob(os.path.join(groundtruth_dir, 'BenthamDataset', 'GT', 'GT_Extracted', '*.txt'))\n",
    "print(len(groundtruth_fns))\n",
    "\n",
    "for gt_fn in groundtruth_fns:\n",
    "\n",
    "    ocr_fn = os.path.join(ocr_output_dir, os.path.basename(gt_fn).replace('GT', 'ocr'))\n",
    "    if os.path.exists(ocr_fn):\n",
    "        with open(gt_fn) as f:\n",
    "            gt_text = f.read()\n",
    "        print(gt_text)\n",
    "        with open(ocr_fn) as f:\n",
    "            ocr_text = f.read()\n",
    "        print(ocr_text)\n",
    "\n",
    "    break\n",
    "\n"
   ]
  },
  {
   "cell_type": "code",
   "execution_count": null,
   "metadata": {},
   "outputs": [],
   "source": []
  }
 ],
 "metadata": {
  "kernelspec": {
   "display_name": "ocr",
   "language": "python",
   "name": "python3"
  },
  "language_info": {
   "codemirror_mode": {
    "name": "ipython",
    "version": 3
   },
   "file_extension": ".py",
   "mimetype": "text/x-python",
   "name": "python",
   "nbconvert_exporter": "python",
   "pygments_lexer": "ipython3",
   "version": "3.9.20"
  }
 },
 "nbformat": 4,
 "nbformat_minor": 2
}
